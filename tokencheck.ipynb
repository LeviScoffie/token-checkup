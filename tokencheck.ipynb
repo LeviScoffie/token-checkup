{
 "cells": [
  {
   "cell_type": "markdown",
   "metadata": {},
   "source": [
    "## Step 1: Import all dependecies"
   ]
  },
  {
   "cell_type": "code",
   "execution_count": 2,
   "metadata": {},
   "outputs": [],
   "source": [
    "import requests\n",
    "import pandas as pd\n",
    "import json"
   ]
  },
  {
   "cell_type": "markdown",
   "metadata": {},
   "source": [
    "## Step 2: Package a GET request using the requests module to the API to get a JSON response with token id  and  its meta data"
   ]
  },
  {
   "cell_type": "code",
   "execution_count": 3,
   "metadata": {},
   "outputs": [],
   "source": [
    "url='https://api.coinpaprika.com/v1/coins'\n",
    "response=requests.get(url)\n",
    "\n"
   ]
  },
  {
   "cell_type": "markdown",
   "metadata": {},
   "source": [
    "## Step 3: Load the JSON response into a python dictionary using the loads() method"
   ]
  },
  {
   "cell_type": "code",
   "execution_count": 4,
   "metadata": {},
   "outputs": [],
   "source": [
    "json_data=json.loads(response.text)"
   ]
  },
  {
   "cell_type": "markdown",
   "metadata": {},
   "source": [
    "## Step 4: Input the data into a Dataframe"
   ]
  },
  {
   "cell_type": "code",
   "execution_count": 5,
   "metadata": {},
   "outputs": [
    {
     "data": {
      "text/html": [
       "<div>\n",
       "<style scoped>\n",
       "    .dataframe tbody tr th:only-of-type {\n",
       "        vertical-align: middle;\n",
       "    }\n",
       "\n",
       "    .dataframe tbody tr th {\n",
       "        vertical-align: top;\n",
       "    }\n",
       "\n",
       "    .dataframe thead th {\n",
       "        text-align: right;\n",
       "    }\n",
       "</style>\n",
       "<table border=\"1\" class=\"dataframe\">\n",
       "  <thead>\n",
       "    <tr style=\"text-align: right;\">\n",
       "      <th></th>\n",
       "      <th>id</th>\n",
       "      <th>name</th>\n",
       "      <th>symbol</th>\n",
       "      <th>rank</th>\n",
       "      <th>is_new</th>\n",
       "      <th>is_active</th>\n",
       "      <th>type</th>\n",
       "    </tr>\n",
       "  </thead>\n",
       "  <tbody>\n",
       "    <tr>\n",
       "      <th>0</th>\n",
       "      <td>btc-bitcoin</td>\n",
       "      <td>Bitcoin</td>\n",
       "      <td>BTC</td>\n",
       "      <td>1</td>\n",
       "      <td>False</td>\n",
       "      <td>True</td>\n",
       "      <td>coin</td>\n",
       "    </tr>\n",
       "    <tr>\n",
       "      <th>1</th>\n",
       "      <td>eth-ethereum</td>\n",
       "      <td>Ethereum</td>\n",
       "      <td>ETH</td>\n",
       "      <td>2</td>\n",
       "      <td>False</td>\n",
       "      <td>True</td>\n",
       "      <td>coin</td>\n",
       "    </tr>\n",
       "    <tr>\n",
       "      <th>2</th>\n",
       "      <td>usdt-tether</td>\n",
       "      <td>Tether</td>\n",
       "      <td>USDT</td>\n",
       "      <td>3</td>\n",
       "      <td>False</td>\n",
       "      <td>True</td>\n",
       "      <td>token</td>\n",
       "    </tr>\n",
       "    <tr>\n",
       "      <th>3</th>\n",
       "      <td>usdc-usd-coin</td>\n",
       "      <td>USD Coin</td>\n",
       "      <td>USDC</td>\n",
       "      <td>4</td>\n",
       "      <td>False</td>\n",
       "      <td>True</td>\n",
       "      <td>token</td>\n",
       "    </tr>\n",
       "    <tr>\n",
       "      <th>4</th>\n",
       "      <td>bnb-binance-coin</td>\n",
       "      <td>Binance Coin</td>\n",
       "      <td>BNB</td>\n",
       "      <td>5</td>\n",
       "      <td>False</td>\n",
       "      <td>True</td>\n",
       "      <td>coin</td>\n",
       "    </tr>\n",
       "  </tbody>\n",
       "</table>\n",
       "</div>"
      ],
      "text/plain": [
       "                 id          name symbol  rank  is_new  is_active   type\n",
       "0       btc-bitcoin       Bitcoin    BTC     1   False       True   coin\n",
       "1      eth-ethereum      Ethereum    ETH     2   False       True   coin\n",
       "2       usdt-tether        Tether   USDT     3   False       True  token\n",
       "3     usdc-usd-coin      USD Coin   USDC     4   False       True  token\n",
       "4  bnb-binance-coin  Binance Coin    BNB     5   False       True   coin"
      ]
     },
     "execution_count": 5,
     "metadata": {},
     "output_type": "execute_result"
    }
   ],
   "source": [
    "df=pd.DataFrame(json_data)\n",
    "df.head()"
   ]
  },
  {
   "cell_type": "markdown",
   "metadata": {},
   "source": [
    "## Step 5: Integrate the list of tokens we are checking for in the API response"
   ]
  },
  {
   "cell_type": "code",
   "execution_count": 6,
   "metadata": {},
   "outputs": [],
   "source": [
    "#https://github.com/duneanalytics/spellbook/pull/2279\n",
    "#paste tokens to be added here in a list\n",
    "\n",
    "tokens=[ (\"air-aircoin\", \"bnb\" ,\"AIR\", \"0xd8a2ae43fd061d24acd538e3866ffc2c05151b53\", 18),\n",
    "    (\"eternal-cryptomines-eternal\", \"bnb\", \"ETERNAL\", \"0xd44fd09d74cd13838f137b590497595d6b3feea4\", 18),\n",
    "    (\"hero-metahero\", \"bnb\", \"HERO\", \"0xd40bedb44c081d2935eeba6ef5a3c8a31a1bbe13\", 18),\n",
    "    (\"milo-milo-inu\", \"bnb\", \"MILO\", \"0xd9de2b1973e57dc9dba90c35d6cd940ae4a3cbe1\", 9),\n",
    "    (\"fsv-filesystemvideo\", \"bnb\", \"FSV\", \"0xe9c7a827a4ba133b338b844c19241c864e95d75f\", 6),\n",
    "    (\"msc-monster-slayer-cash\", \"bnb\", \"MSC\", \"0x8C784C49097Dcc637b93232e15810D53871992BF\", 18),\n",
    "    (\"dome-everdome\", \"bnb\", \"DOME\", \"0x475bfaa1848591ae0e6ab69600f48d828f61a80e\", 18),\n",
    "    (\"sea-sharkshakesea\", \"bnb\", \"SEA\", \"0x26193c7fa4354ae49ec53ea2cebc513dc39a10aa\", 18),\n",
    "    (\"xps-x-parallel-space\", \"bnb\", \"XPS\", \"0x8e9b87cad37610d60120a1f48aa1036e24a3831a\", 18),\n",
    "    (\"gst-gunstar-metaverse\", \"bnb\", \"GST\", \"0x4a2c860cec6471b9f5f5a336eb4f38bb21683c98\", 18),\n",
    "    (\"bsw-biswap\", \"bnb\", \"BSW\", \"0x965f527d9159dce6288a2219db51fc6eef120dd1\", 18),\n",
    "    (\"mines-of-dalarnia-dar\",\"bnb\", \"DAR\", \"0x23ce9e926048273ef83be0a3a8ba9cb6d45cd978\", 6),\n",
    "    (\"chr-chroma\", \"bnb\", \"CHR\", \"0xf9cec8d50f6c8ad3fb6dccec577e05aa32b224fe\",6),\n",
    "    (\"fgd-freedom-god-dao\", \"bnb\", \"FGD\", \"0x0566b9a8ffb8908682796751eed00722da967be0\", 18),\n",
    "    (\"twt-trust-wallet-token\",\"bnb\", \"TWT\", \"0x4b0f1812e5df2a09796481ff14017e6005508003\", 18),\n",
    "    (\"bfg-betfury\", \"bnb\" ,\"BFG\" ,\"0xbb46693ebbea1ac2070e59b4d043b47e2e095f86\" ,18),\n",
    "    (\"avax-avalanche\" ,\"bnb\" ,\"AVAX\" ,\"0x1ce0c2827e2ef14d5c4f29a091d735a204794041\" ,18),\n",
    "    (\"ipad-infinity-pad\" ,\"bnb\" ,\"IPAD\" ,\"0xf07dfc2ad28ab5b09e8602418d2873fcb95e1744\" ,18),\n",
    "    (\"gal-galxe\" ,\"bnb\" ,\"GAL\" ,\"0xe4cc45bb5dbda06db6183e8bf016569f40497aa5\" ,18),\n",
    "    (\"raca-radio-caca\",\"bnb\" ,\"RACA\" ,\"0x12bb890508c125661e03b09ec06e404bc9289040\" ,18),\n",
    "    (\"doge-dogecoin\",\"bnb\" ,\"DOGE\" ,\"0xba2ae424d960c26247dd6c32edc70b295c744c43\" ,8),\n",
    "    (\"cow-coinwind-token\",\"bnb\" ,\"COW\" ,\"0x422e3af98bc1de5a1838be31a56f75db4ad43730\" ,18),\n",
    "    (\"time-time\" ,\"bnb\" ,\"TIME\" ,\"0x26619fa1d4c957c58096bbbeca6588dcfb12e109\" ,18),\n",
    "    (\"fuse-fuse-token-on-bsc\" ,\"bnb\" ,\"FUSE\" ,\"0x5857c96dae9cf8511b08cb07f85753c472d36ea3\" ,18),\n",
    "    (\"dxct-dnaxcat\" ,\"bnb\" ,\"DXCT\" ,\"0x5b1baec64af6dc54e6e04349315919129a6d3c23\" ,18),\n",
    "    (\"sfo-starfish-os\" ,\"bnb\" ,\"SFO\" ,\"0xc544d8ab2b5ed395b96e3ec87462801eca579ae1\" ,18),\n",
    "    (\"baby-babyswap\" ,\"bnb\" ,\"BABY\" ,\"0x53e562b9b7e5e94b81f10e96ee70ad06df3d2657\" ,18),\n",
    "    (\"sol-solana\" ,\"bnb\" ,\"SOL\" ,\"0x570a5d26f7765ecb712c0924e4de545b89fd43df\" ,18),\n",
    "    (\"trx-tron\" ,\"bnb\" ,\"TRX\" ,\"0xce7de646e7208a4ef112cb6ed5038fa6cc6b12e3\" ,18),\n",
    "    (\"sss-starsharks\" ,\"bnb\" ,\"SSS\" ,\"0xc3028fbc1742a16a5d69de1b334cbce28f5d7eb3\" ,18)    ,\n",
    "    (\"sfp-safepal-token\", \"bnb\" ,\"SFP\" ,\"0xd41fdb03ba84762dd66a0af1a6c8540ff1ba5dfb\" ,18),\n",
    "    (\"ssg-surviving-soldiers\",\"bnb\" ,\"SSG\" ,\"0xa0c8c80ed6b7f09f885e826386440b2349f0da7e\" ,18),\n",
    "    (\"bnx-binaryx\" ,\"bnb\" ,\"BNX\" ,\"0x8c851d1a123ff703bd1f9dabe631b69902df5f97\" ,18),\n",
    "    (\"elephant-elephant-money\" ,\"bnb\" ,\"ELEPHANT\" ,\"0xe283d0e3b8c102badf5e8166b73e02d96d92f688\" ,9),\n",
    "    (\"fist-fisttoken\",\"bnb\" ,\"FIST\" ,\"0xc9882def23bc42d53895b8361d0b1edc7570bc6a\" ,6),\n",
    "    (\"usdd-usdd\" ,\"bnb\" ,\"USDD\" ,\"0xd17479997f34dd9156deef8f95a52d81d265be9c\" ,18),\n",
    "    (\"alpaca-alpaca-finance\",\"bnb\" ,\"ALPACA\" ,\"0x8f0528ce5ef7b51152a59745befdd91d97091d2f\" ,18),\n",
    "    (\"ppp-playposeidon-nft\" ,\"bnb\" ,\"PPP\" ,\"0xce355300b9d7909f577640a3fb179cf911a23fbb\" ,18),\n",
    "    (\"wirtual-wirtual\",\"bnb\" ,\"WIRTUAL\" ,\"0xa19d3f4219e2ed6dc1cb595db20f70b8b6866734\" ,18),\n",
    "    (\"ape-apecoin\", \"bnb\" ,\"APE\" ,\"0x0b079b33b6e72311c6be245f9f660cc385029fc3\",18),\n",
    "    (\"metis-metis-token\",\"bnb\" ,\"Metis\" ,\"0xe552fb52a4f19e44ef5a967632dbc320b0820639\" ,18)]"
   ]
  },
  {
   "cell_type": "markdown",
   "metadata": {},
   "source": [
    "## Step 6: Turn tokens pasted into a dataframe"
   ]
  },
  {
   "cell_type": "code",
   "execution_count": 8,
   "metadata": {},
   "outputs": [
    {
     "data": {
      "text/html": [
       "<div>\n",
       "<style scoped>\n",
       "    .dataframe tbody tr th:only-of-type {\n",
       "        vertical-align: middle;\n",
       "    }\n",
       "\n",
       "    .dataframe tbody tr th {\n",
       "        vertical-align: top;\n",
       "    }\n",
       "\n",
       "    .dataframe thead th {\n",
       "        text-align: right;\n",
       "    }\n",
       "</style>\n",
       "<table border=\"1\" class=\"dataframe\">\n",
       "  <thead>\n",
       "    <tr style=\"text-align: right;\">\n",
       "      <th></th>\n",
       "      <th>token_id</th>\n",
       "      <th>blockchain</th>\n",
       "      <th>symbol</th>\n",
       "      <th>contract_address</th>\n",
       "      <th>decimals</th>\n",
       "    </tr>\n",
       "  </thead>\n",
       "  <tbody>\n",
       "    <tr>\n",
       "      <th>0</th>\n",
       "      <td>air-aircoin</td>\n",
       "      <td>bnb</td>\n",
       "      <td>AIR</td>\n",
       "      <td>0xd8a2ae43fd061d24acd538e3866ffc2c05151b53</td>\n",
       "      <td>18</td>\n",
       "    </tr>\n",
       "    <tr>\n",
       "      <th>1</th>\n",
       "      <td>eternal-cryptomines-eternal</td>\n",
       "      <td>bnb</td>\n",
       "      <td>ETERNAL</td>\n",
       "      <td>0xd44fd09d74cd13838f137b590497595d6b3feea4</td>\n",
       "      <td>18</td>\n",
       "    </tr>\n",
       "    <tr>\n",
       "      <th>2</th>\n",
       "      <td>hero-metahero</td>\n",
       "      <td>bnb</td>\n",
       "      <td>HERO</td>\n",
       "      <td>0xd40bedb44c081d2935eeba6ef5a3c8a31a1bbe13</td>\n",
       "      <td>18</td>\n",
       "    </tr>\n",
       "    <tr>\n",
       "      <th>3</th>\n",
       "      <td>milo-milo-inu</td>\n",
       "      <td>bnb</td>\n",
       "      <td>MILO</td>\n",
       "      <td>0xd9de2b1973e57dc9dba90c35d6cd940ae4a3cbe1</td>\n",
       "      <td>9</td>\n",
       "    </tr>\n",
       "    <tr>\n",
       "      <th>4</th>\n",
       "      <td>fsv-filesystemvideo</td>\n",
       "      <td>bnb</td>\n",
       "      <td>FSV</td>\n",
       "      <td>0xe9c7a827a4ba133b338b844c19241c864e95d75f</td>\n",
       "      <td>6</td>\n",
       "    </tr>\n",
       "  </tbody>\n",
       "</table>\n",
       "</div>"
      ],
      "text/plain": [
       "                      token_id blockchain   symbol  \\\n",
       "0                  air-aircoin        bnb      AIR   \n",
       "1  eternal-cryptomines-eternal        bnb  ETERNAL   \n",
       "2                hero-metahero        bnb     HERO   \n",
       "3                milo-milo-inu        bnb     MILO   \n",
       "4          fsv-filesystemvideo        bnb      FSV   \n",
       "\n",
       "                             contract_address  decimals  \n",
       "0  0xd8a2ae43fd061d24acd538e3866ffc2c05151b53        18  \n",
       "1  0xd44fd09d74cd13838f137b590497595d6b3feea4        18  \n",
       "2  0xd40bedb44c081d2935eeba6ef5a3c8a31a1bbe13        18  \n",
       "3  0xd9de2b1973e57dc9dba90c35d6cd940ae4a3cbe1         9  \n",
       "4  0xe9c7a827a4ba133b338b844c19241c864e95d75f         6  "
      ]
     },
     "execution_count": 8,
     "metadata": {},
     "output_type": "execute_result"
    }
   ],
   "source": [
    "df_tokens=pd.DataFrame(tokens,columns=['token_id', 'blockchain', 'symbol', 'contract_address', 'decimals'])\n",
    "df_tokens.head()"
   ]
  },
  {
   "cell_type": "markdown",
   "metadata": {},
   "source": [
    "## Step 7: Check if Tokens exist in df from CoinPaprika"
   ]
  },
  {
   "cell_type": "code",
   "execution_count": 12,
   "metadata": {},
   "outputs": [
    {
     "name": "stdout",
     "output_type": "stream",
     "text": [
      "True\n"
     ]
    }
   ],
   "source": [
    "df_tokens['token_id'].isin(df.id)\n",
    "print(df_tokens['token_id'].isin(df.id).all())"
   ]
  },
  {
   "cell_type": "markdown",
   "metadata": {},
   "source": [
    "## Step 8 : Map out tokens in tokens_df from main df"
   ]
  },
  {
   "cell_type": "code",
   "execution_count": 14,
   "metadata": {},
   "outputs": [
    {
     "ename": "NameError",
     "evalue": "name 'df_token' is not defined",
     "output_type": "error",
     "traceback": [
      "\u001b[0;31m---------------------------------------------------------------------------\u001b[0m",
      "\u001b[0;31mNameError\u001b[0m                                 Traceback (most recent call last)",
      "Cell \u001b[0;32mIn[14], line 1\u001b[0m\n\u001b[0;32m----> 1\u001b[0m df_sub_tokens\u001b[39m=\u001b[39mdf[df\u001b[39m.\u001b[39mid\u001b[39m.\u001b[39misin(df_token\u001b[39m.\u001b[39misin(df\u001b[39m.\u001b[39mid))]\n\u001b[1;32m      2\u001b[0m df_sub_tokens\n",
      "\u001b[0;31mNameError\u001b[0m: name 'df_token' is not defined"
     ]
    }
   ],
   "source": [
    "df_sub_tokens=df[df.id.isin(df_token.isin(df.id))]\n",
    "df_sub_tokens"
   ]
  }
 ],
 "metadata": {
  "kernelspec": {
   "display_name": "Python 3.9.13 ('token-checkup-f6SJIw-b')",
   "language": "python",
   "name": "python3"
  },
  "language_info": {
   "codemirror_mode": {
    "name": "ipython",
    "version": 3
   },
   "file_extension": ".py",
   "mimetype": "text/x-python",
   "name": "python",
   "nbconvert_exporter": "python",
   "pygments_lexer": "ipython3",
   "version": "3.9.13"
  },
  "orig_nbformat": 4,
  "vscode": {
   "interpreter": {
    "hash": "33ed67906b1ca54b6d446969c9730c1295022603ba6a1bcc7f4314870ddbd720"
   }
  }
 },
 "nbformat": 4,
 "nbformat_minor": 2
}
