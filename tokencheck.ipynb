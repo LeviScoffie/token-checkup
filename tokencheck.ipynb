{
 "cells": [
  {
   "cell_type": "markdown",
   "metadata": {},
   "source": [
    "#### Step 1: Import all dependecies"
   ]
  },
  {
   "cell_type": "code",
   "execution_count": 10,
   "metadata": {},
   "outputs": [],
   "source": [
    "import requests\n",
    "import pandas as pd\n",
    "import json"
   ]
  },
  {
   "cell_type": "markdown",
   "metadata": {},
   "source": [
    "#### Step 2: Package a GET request using the requests module to the API to get a JSON response with token id  and  its meta data"
   ]
  },
  {
   "cell_type": "code",
   "execution_count": 11,
   "metadata": {},
   "outputs": [],
   "source": [
    "url='https://api.coinpaprika.com/v1/coins'\n",
    "response=requests.get(url)\n",
    "\n"
   ]
  },
  {
   "cell_type": "markdown",
   "metadata": {},
   "source": [
    "#### Step 3: Load the JSON response into a python dictionary using the loads() method"
   ]
  },
  {
   "cell_type": "code",
   "execution_count": 21,
   "metadata": {},
   "outputs": [],
   "source": [
    "json_data=json.loads(response.text)"
   ]
  },
  {
   "cell_type": "markdown",
   "metadata": {},
   "source": [
    "#### Step 4: Input the data into a Dataframe"
   ]
  },
  {
   "cell_type": "code",
   "execution_count": 26,
   "metadata": {},
   "outputs": [
    {
     "ename": "ValueError",
     "evalue": "If using all scalar values, you must pass an index",
     "output_type": "error",
     "traceback": [
      "\u001b[0;31m---------------------------------------------------------------------------\u001b[0m",
      "\u001b[0;31mValueError\u001b[0m                                Traceback (most recent call last)",
      "Cell \u001b[0;32mIn[26], line 1\u001b[0m\n\u001b[0;32m----> 1\u001b[0m df\u001b[39m=\u001b[39mpd\u001b[39m.\u001b[39;49mDataFrame(json_data)\n\u001b[1;32m      2\u001b[0m df\u001b[39m.\u001b[39mhead(\u001b[39m10\u001b[39m)\n",
      "File \u001b[0;32m~/.local/share/virtualenvs/token-checkup-f6SJIw-b/lib/python3.9/site-packages/pandas/core/frame.py:663\u001b[0m, in \u001b[0;36mDataFrame.__init__\u001b[0;34m(self, data, index, columns, dtype, copy)\u001b[0m\n\u001b[1;32m    657\u001b[0m     mgr \u001b[39m=\u001b[39m \u001b[39mself\u001b[39m\u001b[39m.\u001b[39m_init_mgr(\n\u001b[1;32m    658\u001b[0m         data, axes\u001b[39m=\u001b[39m{\u001b[39m\"\u001b[39m\u001b[39mindex\u001b[39m\u001b[39m\"\u001b[39m: index, \u001b[39m\"\u001b[39m\u001b[39mcolumns\u001b[39m\u001b[39m\"\u001b[39m: columns}, dtype\u001b[39m=\u001b[39mdtype, copy\u001b[39m=\u001b[39mcopy\n\u001b[1;32m    659\u001b[0m     )\n\u001b[1;32m    661\u001b[0m \u001b[39melif\u001b[39;00m \u001b[39misinstance\u001b[39m(data, \u001b[39mdict\u001b[39m):\n\u001b[1;32m    662\u001b[0m     \u001b[39m# GH#38939 de facto copy defaults to False only in non-dict cases\u001b[39;00m\n\u001b[0;32m--> 663\u001b[0m     mgr \u001b[39m=\u001b[39m dict_to_mgr(data, index, columns, dtype\u001b[39m=\u001b[39;49mdtype, copy\u001b[39m=\u001b[39;49mcopy, typ\u001b[39m=\u001b[39;49mmanager)\n\u001b[1;32m    664\u001b[0m \u001b[39melif\u001b[39;00m \u001b[39misinstance\u001b[39m(data, ma\u001b[39m.\u001b[39mMaskedArray):\n\u001b[1;32m    665\u001b[0m     \u001b[39mimport\u001b[39;00m \u001b[39mnumpy\u001b[39;00m\u001b[39m.\u001b[39;00m\u001b[39mma\u001b[39;00m\u001b[39m.\u001b[39;00m\u001b[39mmrecords\u001b[39;00m \u001b[39mas\u001b[39;00m \u001b[39mmrecords\u001b[39;00m\n",
      "File \u001b[0;32m~/.local/share/virtualenvs/token-checkup-f6SJIw-b/lib/python3.9/site-packages/pandas/core/internals/construction.py:493\u001b[0m, in \u001b[0;36mdict_to_mgr\u001b[0;34m(data, index, columns, dtype, typ, copy)\u001b[0m\n\u001b[1;32m    489\u001b[0m     \u001b[39melse\u001b[39;00m:\n\u001b[1;32m    490\u001b[0m         \u001b[39m# dtype check to exclude e.g. range objects, scalars\u001b[39;00m\n\u001b[1;32m    491\u001b[0m         arrays \u001b[39m=\u001b[39m [x\u001b[39m.\u001b[39mcopy() \u001b[39mif\u001b[39;00m \u001b[39mhasattr\u001b[39m(x, \u001b[39m\"\u001b[39m\u001b[39mdtype\u001b[39m\u001b[39m\"\u001b[39m) \u001b[39melse\u001b[39;00m x \u001b[39mfor\u001b[39;00m x \u001b[39min\u001b[39;00m arrays]\n\u001b[0;32m--> 493\u001b[0m \u001b[39mreturn\u001b[39;00m arrays_to_mgr(arrays, columns, index, dtype\u001b[39m=\u001b[39;49mdtype, typ\u001b[39m=\u001b[39;49mtyp, consolidate\u001b[39m=\u001b[39;49mcopy)\n",
      "File \u001b[0;32m~/.local/share/virtualenvs/token-checkup-f6SJIw-b/lib/python3.9/site-packages/pandas/core/internals/construction.py:118\u001b[0m, in \u001b[0;36marrays_to_mgr\u001b[0;34m(arrays, columns, index, dtype, verify_integrity, typ, consolidate)\u001b[0m\n\u001b[1;32m    115\u001b[0m \u001b[39mif\u001b[39;00m verify_integrity:\n\u001b[1;32m    116\u001b[0m     \u001b[39m# figure out the index, if necessary\u001b[39;00m\n\u001b[1;32m    117\u001b[0m     \u001b[39mif\u001b[39;00m index \u001b[39mis\u001b[39;00m \u001b[39mNone\u001b[39;00m:\n\u001b[0;32m--> 118\u001b[0m         index \u001b[39m=\u001b[39m _extract_index(arrays)\n\u001b[1;32m    119\u001b[0m     \u001b[39melse\u001b[39;00m:\n\u001b[1;32m    120\u001b[0m         index \u001b[39m=\u001b[39m ensure_index(index)\n",
      "File \u001b[0;32m~/.local/share/virtualenvs/token-checkup-f6SJIw-b/lib/python3.9/site-packages/pandas/core/internals/construction.py:656\u001b[0m, in \u001b[0;36m_extract_index\u001b[0;34m(data)\u001b[0m\n\u001b[1;32m    653\u001b[0m         \u001b[39mraise\u001b[39;00m \u001b[39mValueError\u001b[39;00m(\u001b[39m\"\u001b[39m\u001b[39mPer-column arrays must each be 1-dimensional\u001b[39m\u001b[39m\"\u001b[39m)\n\u001b[1;32m    655\u001b[0m \u001b[39mif\u001b[39;00m \u001b[39mnot\u001b[39;00m indexes \u001b[39mand\u001b[39;00m \u001b[39mnot\u001b[39;00m raw_lengths:\n\u001b[0;32m--> 656\u001b[0m     \u001b[39mraise\u001b[39;00m \u001b[39mValueError\u001b[39;00m(\u001b[39m\"\u001b[39m\u001b[39mIf using all scalar values, you must pass an index\u001b[39m\u001b[39m\"\u001b[39m)\n\u001b[1;32m    658\u001b[0m \u001b[39melif\u001b[39;00m have_series:\n\u001b[1;32m    659\u001b[0m     index \u001b[39m=\u001b[39m union_indexes(indexes)\n",
      "\u001b[0;31mValueError\u001b[0m: If using all scalar values, you must pass an index"
     ]
    }
   ],
   "source": [
    "df=pd.DataFrame(json_data)\n",
    "df.head(10)"
   ]
  },
  {
   "cell_type": "markdown",
   "metadata": {},
   "source": [
    "#### Step 5: Integrate the list of tokens we are checking for in the API response"
   ]
  },
  {
   "cell_type": "code",
   "execution_count": null,
   "metadata": {},
   "outputs": [],
   "source": [
    "#https://github.com/duneanalytics/spellbook/pull/2279\n",
    "#paste tokens to be added here in a list\n",
    "\n",
    "tokens=[ (\"air-aircoin\", \"bnb\" ,\"AIR\", \"0xd8a2ae43fd061d24acd538e3866ffc2c05151b53\", 18),\n",
    "    (\"eternal-cryptomines-eternal\", \"bnb\", \"ETERNAL\", \"0xd44fd09d74cd13838f137b590497595d6b3feea4\", 18),\n",
    "    (\"hero-metahero\", \"bnb\", \"HERO\", \"0xd40bedb44c081d2935eeba6ef5a3c8a31a1bbe13\", 18),\n",
    "    (\"milo-milo-inu\", \"bnb\", \"MILO\", \"0xd9de2b1973e57dc9dba90c35d6cd940ae4a3cbe1\", 9),\n",
    "    (\"fsv-filesystemvideo\", \"bnb\", \"FSV\", \"0xe9c7a827a4ba133b338b844c19241c864e95d75f\", 6),\n",
    "    (\"msc-monster-slayer-cash\", \"bnb\", \"MSC\", \"0x8C784C49097Dcc637b93232e15810D53871992BF\", 18),\n",
    "    (\"dome-everdome\", \"bnb\", \"DOME\", \"0x475bfaa1848591ae0e6ab69600f48d828f61a80e\", 18),\n",
    "    (\"sea-sharkshakesea\", \"bnb\", \"SEA\", \"0x26193c7fa4354ae49ec53ea2cebc513dc39a10aa\", 18),\n",
    "    (\"xps-x-parallel-space\", \"bnb\", \"XPS\", \"0x8e9b87cad37610d60120a1f48aa1036e24a3831a\", 18),\n",
    "    (\"gst-gunstar-metaverse\", \"bnb\", \"GST\", \"0x4a2c860cec6471b9f5f5a336eb4f38bb21683c98\", 18),\n",
    "    (\"bsw-biswap\", \"bnb\", \"BSW\", \"0x965f527d9159dce6288a2219db51fc6eef120dd1\", 18),\n",
    "    (\"mines-of-dalarnia-dar\",\"bnb\", \"DAR\", \"0x23ce9e926048273ef83be0a3a8ba9cb6d45cd978\", 6),\n",
    "    (\"chr-chroma\", \"bnb\", \"CHR\", \"0xf9cec8d50f6c8ad3fb6dccec577e05aa32b224fe\",6),\n",
    "    (\"fgd-freedom-god-dao\", \"bnb\", \"FGD\", \"0x0566b9a8ffb8908682796751eed00722da967be0\", 18),\n",
    "    (\"twt-trust-wallet-token\",\"bnb\", \"TWT\", \"0x4b0f1812e5df2a09796481ff14017e6005508003\", 18),\n",
    "    (\"bfg-betfury\", \"bnb\" ,\"BFG\" ,\"0xbb46693ebbea1ac2070e59b4d043b47e2e095f86\" ,18),\n",
    "    (\"avax-avalanche\" ,\"bnb\" ,\"AVAX\" ,\"0x1ce0c2827e2ef14d5c4f29a091d735a204794041\" ,18),\n",
    "    (\"ipad-infinity-pad\" ,\"bnb\" ,\"IPAD\" ,\"0xf07dfc2ad28ab5b09e8602418d2873fcb95e1744\" ,18),\n",
    "    (\"gal-galxe\" ,\"bnb\" ,\"GAL\" ,\"0xe4cc45bb5dbda06db6183e8bf016569f40497aa5\" ,18),\n",
    "    (\"raca-radio-caca\",\"bnb\" ,\"RACA\" ,\"0x12bb890508c125661e03b09ec06e404bc9289040\" ,18),\n",
    "    (\"doge-dogecoin\",\"bnb\" ,\"DOGE\" ,\"0xba2ae424d960c26247dd6c32edc70b295c744c43\" ,8),\n",
    "    (\"cow-coinwind-token\",\"bnb\" ,\"COW\" ,\"0x422e3af98bc1de5a1838be31a56f75db4ad43730\" ,18),\n",
    "    (\"time-time\" ,\"bnb\" ,\"TIME\" ,\"0x26619fa1d4c957c58096bbbeca6588dcfb12e109\" ,18),\n",
    "    (\"fuse-fuse-token-on-bsc\" ,\"bnb\" ,\"FUSE\" ,\"0x5857c96dae9cf8511b08cb07f85753c472d36ea3\" ,18),\n",
    "    (\"dxct-dnaxcat\" ,\"bnb\" ,\"DXCT\" ,\"0x5b1baec64af6dc54e6e04349315919129a6d3c23\" ,18),\n",
    "    (\"sfo-starfish-os\" ,\"bnb\" ,\"SFO\" ,\"0xc544d8ab2b5ed395b96e3ec87462801eca579ae1\" ,18),\n",
    "    (\"baby-babyswap\" ,\"bnb\" ,\"BABY\" ,\"0x53e562b9b7e5e94b81f10e96ee70ad06df3d2657\" ,18),\n",
    "    (\"sol-solana\" ,\"bnb\" ,\"SOL\" ,\"0x570a5d26f7765ecb712c0924e4de545b89fd43df\" ,18),\n",
    "    (\"trx-tron\" ,\"bnb\" ,\"TRX\" ,\"0xce7de646e7208a4ef112cb6ed5038fa6cc6b12e3\" ,18),\n",
    "    (\"sss-starsharks\" ,\"bnb\" ,\"SSS\" ,\"0xc3028fbc1742a16a5d69de1b334cbce28f5d7eb3\" ,18)    ,\n",
    "    (\"sfp-safepal-token\", \"bnb\" ,\"SFP\" ,\"0xd41fdb03ba84762dd66a0af1a6c8540ff1ba5dfb\" ,18),\n",
    "    (\"ssg-surviving-soldiers\",\"bnb\" ,\"SSG\" ,\"0xa0c8c80ed6b7f09f885e826386440b2349f0da7e\" ,18),\n",
    "    (\"bnx-binaryx\" ,\"bnb\" ,\"BNX\" ,\"0x8c851d1a123ff703bd1f9dabe631b69902df5f97\" ,18),\n",
    "    (\"elephant-elephant-money\" ,\"bnb\" ,\"ELEPHANT\" ,\"0xe283d0e3b8c102badf5e8166b73e02d96d92f688\" ,9),\n",
    "    (\"fist-fisttoken\",\"bnb\" ,\"FIST\" ,\"0xc9882def23bc42d53895b8361d0b1edc7570bc6a\" ,6),\n",
    "    (\"usdd-usdd\" ,\"bnb\" ,\"USDD\" ,\"0xd17479997f34dd9156deef8f95a52d81d265be9c\" ,18),\n",
    "    (\"alpaca-alpaca-finance\",\"bnb\" ,\"ALPACA\" ,\"0x8f0528ce5ef7b51152a59745befdd91d97091d2f\" ,18),\n",
    "    (\"ppp-playposeidon-nft\" ,\"bnb\" ,\"PPP\" ,\"0xce355300b9d7909f577640a3fb179cf911a23fbb\" ,18),\n",
    "    (\"wirtual-wirtual\",\"bnb\" ,\"WIRTUAL\" ,\"0xa19d3f4219e2ed6dc1cb595db20f70b8b6866734\" ,18),\n",
    "    (\"ape-apecoin\", \"bnb\" ,\"APE\" ,\"0x0b079b33b6e72311c6be245f9f660cc385029fc3\",18),\n",
    "    (\"metis-metis-token\",\"bnb\" ,\"Metis\" ,\"0xe552fb52a4f19e44ef5a967632dbc320b0820639\" ,18)]"
   ]
  },
  {
   "cell_type": "markdown",
   "metadata": {},
   "source": [
    "#### Step 6: Turn tokens pasted into a dataframe"
   ]
  },
  {
   "cell_type": "code",
   "execution_count": null,
   "metadata": {},
   "outputs": [
    {
     "data": {
      "text/html": [
       "<div>\n",
       "<style scoped>\n",
       "    .dataframe tbody tr th:only-of-type {\n",
       "        vertical-align: middle;\n",
       "    }\n",
       "\n",
       "    .dataframe tbody tr th {\n",
       "        vertical-align: top;\n",
       "    }\n",
       "\n",
       "    .dataframe thead th {\n",
       "        text-align: right;\n",
       "    }\n",
       "</style>\n",
       "<table border=\"1\" class=\"dataframe\">\n",
       "  <thead>\n",
       "    <tr style=\"text-align: right;\">\n",
       "      <th></th>\n",
       "      <th>token_id</th>\n",
       "      <th>blockchain</th>\n",
       "      <th>symbol</th>\n",
       "      <th>contract_address</th>\n",
       "      <th>decimals</th>\n",
       "    </tr>\n",
       "  </thead>\n",
       "  <tbody>\n",
       "    <tr>\n",
       "      <th>0</th>\n",
       "      <td>air-aircoin</td>\n",
       "      <td>bnb</td>\n",
       "      <td>AIR</td>\n",
       "      <td>0xd8a2ae43fd061d24acd538e3866ffc2c05151b53</td>\n",
       "      <td>18</td>\n",
       "    </tr>\n",
       "    <tr>\n",
       "      <th>1</th>\n",
       "      <td>eternal-cryptomines-eternal</td>\n",
       "      <td>bnb</td>\n",
       "      <td>ETERNAL</td>\n",
       "      <td>0xd44fd09d74cd13838f137b590497595d6b3feea4</td>\n",
       "      <td>18</td>\n",
       "    </tr>\n",
       "    <tr>\n",
       "      <th>2</th>\n",
       "      <td>hero-metahero</td>\n",
       "      <td>bnb</td>\n",
       "      <td>HERO</td>\n",
       "      <td>0xd40bedb44c081d2935eeba6ef5a3c8a31a1bbe13</td>\n",
       "      <td>18</td>\n",
       "    </tr>\n",
       "    <tr>\n",
       "      <th>3</th>\n",
       "      <td>milo-milo-inu</td>\n",
       "      <td>bnb</td>\n",
       "      <td>MILO</td>\n",
       "      <td>0xd9de2b1973e57dc9dba90c35d6cd940ae4a3cbe1</td>\n",
       "      <td>9</td>\n",
       "    </tr>\n",
       "    <tr>\n",
       "      <th>4</th>\n",
       "      <td>fsv-filesystemvideo</td>\n",
       "      <td>bnb</td>\n",
       "      <td>FSV</td>\n",
       "      <td>0xe9c7a827a4ba133b338b844c19241c864e95d75f</td>\n",
       "      <td>6</td>\n",
       "    </tr>\n",
       "  </tbody>\n",
       "</table>\n",
       "</div>"
      ],
      "text/plain": [
       "                      token_id blockchain   symbol  \\\n",
       "0                  air-aircoin        bnb      AIR   \n",
       "1  eternal-cryptomines-eternal        bnb  ETERNAL   \n",
       "2                hero-metahero        bnb     HERO   \n",
       "3                milo-milo-inu        bnb     MILO   \n",
       "4          fsv-filesystemvideo        bnb      FSV   \n",
       "\n",
       "                             contract_address  decimals  \n",
       "0  0xd8a2ae43fd061d24acd538e3866ffc2c05151b53        18  \n",
       "1  0xd44fd09d74cd13838f137b590497595d6b3feea4        18  \n",
       "2  0xd40bedb44c081d2935eeba6ef5a3c8a31a1bbe13        18  \n",
       "3  0xd9de2b1973e57dc9dba90c35d6cd940ae4a3cbe1         9  \n",
       "4  0xe9c7a827a4ba133b338b844c19241c864e95d75f         6  "
      ]
     },
     "execution_count": 24,
     "metadata": {},
     "output_type": "execute_result"
    }
   ],
   "source": [
    "df_tokens=pd.DataFrame(tokens,columns=['token_id', 'blockchain', 'symbol', 'contract_address', 'decimals'])\n",
    "df_tokens.head()"
   ]
  },
  {
   "cell_type": "markdown",
   "metadata": {},
   "source": [
    "#### Step 7: Check if Tokens exist in df from CoinPaprika"
   ]
  },
  {
   "cell_type": "code",
   "execution_count": null,
   "metadata": {},
   "outputs": [
    {
     "ename": "AttributeError",
     "evalue": "'DataFrame' object has no attribute 'id'",
     "output_type": "error",
     "traceback": [
      "\u001b[0;31m---------------------------------------------------------------------------\u001b[0m",
      "\u001b[0;31mAttributeError\u001b[0m                            Traceback (most recent call last)",
      "Cell \u001b[0;32mIn[25], line 1\u001b[0m\n\u001b[0;32m----> 1\u001b[0m df_tokens[\u001b[39m'\u001b[39m\u001b[39mtoken_id\u001b[39m\u001b[39m'\u001b[39m]\u001b[39m.\u001b[39misin(df\u001b[39m.\u001b[39;49mid)\n\u001b[1;32m      2\u001b[0m \u001b[39mprint\u001b[39m(df_tokens[\u001b[39m'\u001b[39m\u001b[39mtoken_id\u001b[39m\u001b[39m'\u001b[39m]\u001b[39m.\u001b[39misin(df\u001b[39m.\u001b[39mid)\u001b[39m.\u001b[39mall())\n",
      "File \u001b[0;32m~/.local/share/virtualenvs/token-checkup-f6SJIw-b/lib/python3.9/site-packages/pandas/core/generic.py:5902\u001b[0m, in \u001b[0;36mNDFrame.__getattr__\u001b[0;34m(self, name)\u001b[0m\n\u001b[1;32m   5895\u001b[0m \u001b[39mif\u001b[39;00m (\n\u001b[1;32m   5896\u001b[0m     name \u001b[39mnot\u001b[39;00m \u001b[39min\u001b[39;00m \u001b[39mself\u001b[39m\u001b[39m.\u001b[39m_internal_names_set\n\u001b[1;32m   5897\u001b[0m     \u001b[39mand\u001b[39;00m name \u001b[39mnot\u001b[39;00m \u001b[39min\u001b[39;00m \u001b[39mself\u001b[39m\u001b[39m.\u001b[39m_metadata\n\u001b[1;32m   5898\u001b[0m     \u001b[39mand\u001b[39;00m name \u001b[39mnot\u001b[39;00m \u001b[39min\u001b[39;00m \u001b[39mself\u001b[39m\u001b[39m.\u001b[39m_accessors\n\u001b[1;32m   5899\u001b[0m     \u001b[39mand\u001b[39;00m \u001b[39mself\u001b[39m\u001b[39m.\u001b[39m_info_axis\u001b[39m.\u001b[39m_can_hold_identifiers_and_holds_name(name)\n\u001b[1;32m   5900\u001b[0m ):\n\u001b[1;32m   5901\u001b[0m     \u001b[39mreturn\u001b[39;00m \u001b[39mself\u001b[39m[name]\n\u001b[0;32m-> 5902\u001b[0m \u001b[39mreturn\u001b[39;00m \u001b[39mobject\u001b[39;49m\u001b[39m.\u001b[39;49m\u001b[39m__getattribute__\u001b[39;49m(\u001b[39mself\u001b[39;49m, name)\n",
      "\u001b[0;31mAttributeError\u001b[0m: 'DataFrame' object has no attribute 'id'"
     ]
    }
   ],
   "source": [
    "df_tokens['token_id'].isin(df.id)\n",
    "print(df_tokens['token_id'].isin(df.id).all())"
   ]
  },
  {
   "cell_type": "markdown",
   "metadata": {},
   "source": [
    "#### Step 8 : Map out tokens in tokens_df from main df"
   ]
  },
  {
   "cell_type": "code",
   "execution_count": null,
   "metadata": {},
   "outputs": [],
   "source": [
    "df_sub_tokens=df[df.id.isin(df_tokens.token_id)]\n",
    "df_sub_tokens"
   ]
  },
  {
   "cell_type": "code",
   "execution_count": null,
   "metadata": {},
   "outputs": [],
   "source": [
    "## Finding inactive tokens\n",
    "df_sub_tokens.loc[df_sub_tokens['is_active']==False]"
   ]
  },
  {
   "cell_type": "markdown",
   "metadata": {},
   "source": [
    "#### Step 9: Create a function that takes in token id and returns token_address as a str and None if not found"
   ]
  },
  {
   "cell_type": "code",
   "execution_count": null,
   "metadata": {},
   "outputs": [],
   "source": [
    "def get_api_address(id:str) -> str:\n",
    "    \"\"\"Get a corresponding contract address from coinpaprika's API by using the token id\n",
    "    params: \n",
    "        id : token-id in coinpaprika's API\n",
    "        \n",
    "    return: contract_address or None(If contract address is unavailable)\"\"\"\n",
    "    \n",
    "    _api_url = 'https://api.coinpaprika.com/v1/coins/' + id\n",
    "    \n",
    "    r=requests.get(_api_url)\n",
    "    _json_data=json.loads(r.text)\n",
    "    \n",
    "    if \"contract\" in _json_data.keys():\n",
    "        return _json_data['contract']\n",
    "    else:\n",
    "        return None"
   ]
  },
  {
   "cell_type": "code",
   "execution_count": null,
   "metadata": {},
   "outputs": [],
   "source": [
    "# test\n",
    "print(get_api_address('doge-dogecoin')) # None \n",
    "print(get_api_address('ipad-infinity-pad')) # 0xf07dfc2ad28ab5b09e8602418d2873fcb95e1744\n"
   ]
  },
  {
   "cell_type": "markdown",
   "metadata": {},
   "source": [
    "#### Step 10: Try to delay the execution of the function using random seconds"
   ]
  },
  {
   "cell_type": "code",
   "execution_count": null,
   "metadata": {},
   "outputs": [],
   "source": [
    "import random \n",
    "import time # for delay (sleep)\n",
    "seconds=random.uniform(1,3)\n",
    "seconds"
   ]
  },
  {
   "cell_type": "code",
   "execution_count": null,
   "metadata": {},
   "outputs": [],
   "source": [
    "def sleep_get_api_address(id:str) -> str:\n",
    "    time.sleep(seconds)\n",
    "    return get_api_address(id)"
   ]
  },
  {
   "cell_type": "code",
   "execution_count": null,
   "metadata": {},
   "outputs": [],
   "source": [
    "coin_list_with_address=[]\n",
    "\n",
    "for index,row in df_sub_tokens.iterrows():\n",
    "    address=sleep_get_api_address(row.id)\n",
    "    print(row.id, address)\n",
    "    coin_list_with_address.append((row.id, address))\n",
    "    for i in coin_list_with_address:\n",
    "        if i in coin_list_with_address:\n",
    "            continue\n",
    "        else:\n",
    "            coin_list_with_address.append((row.id, address))"
   ]
  },
  {
   "cell_type": "code",
   "execution_count": null,
   "metadata": {},
   "outputs": [],
   "source": [
    "df_address_id=pd.DataFrame(coin_list_with_address, columns=['token_id','address'])\n",
    "df_address_id"
   ]
  },
  {
   "cell_type": "markdown",
   "metadata": {},
   "source": [
    "#### Step 11: Merge the new df to the original dataframe of tokens"
   ]
  },
  {
   "cell_type": "code",
   "execution_count": null,
   "metadata": {},
   "outputs": [],
   "source": [
    "merged_df=pd.merge(df_address_id, df_tokens, on='token_id', how='right')"
   ]
  },
  {
   "cell_type": "markdown",
   "metadata": {},
   "source": [
    "#### Step 12: Write a function that checks if merged tables are consitent on contract address: return True or False"
   ]
  },
  {
   "cell_type": "code",
   "execution_count": null,
   "metadata": {},
   "outputs": [],
   "source": [
    "def check_address(row) -> bool:\n",
    "    if row.address is None:\n",
    "        return False\n",
    "    return row.address.str.lower()==row.contract_address.str.lower()"
   ]
  },
  {
   "cell_type": "code",
   "execution_count": null,
   "metadata": {},
   "outputs": [],
   "source": [
    "result_df=merged_df.assign(address_is_legal=check_address)"
   ]
  },
  {
   "cell_type": "markdown",
   "metadata": {},
   "source": [
    "#### Step 13: Return all tokens that are active but their contract addresses are not hosted onto CoinPaprika"
   ]
  },
  {
   "cell_type": "code",
   "execution_count": null,
   "metadata": {},
   "outputs": [],
   "source": [
    "result_df.loc[result_df['address_is_legal']==False]"
   ]
  },
  {
   "cell_type": "markdown",
   "metadata": {},
   "source": [
    "## FINDINGS"
   ]
  },
  {
   "cell_type": "code",
   "execution_count": null,
   "metadata": {},
   "outputs": [],
   "source": [
    "#INACTIVE TOKENS\n",
    "\n",
    "inactive=df_tokens[df_tokens.token_id.isin(df_sub_tokens.loc[df_sub_tokens['is_active']==False].id)]\n",
    "inactive"
   ]
  },
  {
   "cell_type": "code",
   "execution_count": null,
   "metadata": {},
   "outputs": [],
   "source": [
    "# TOKENS MISSING THEIR ADDRESSES ON COINPAPRIKA\n",
    "\n",
    "missing=df_tokens[df_tokens.token_id.isin(result_df.loc[result_df['address_is_legal']==False]).token_id]\n",
    "missing"
   ]
  },
  {
   "cell_type": "code",
   "execution_count": null,
   "metadata": {},
   "outputs": [],
   "source": [
    "# LEGAL TOKENS\n",
    "df_tokens[~df_token.token_id.isin(inactive.id)][~df_token.token_id.isin(missing.token_id)]"
   ]
  }
 ],
 "metadata": {
  "kernelspec": {
   "display_name": "Python 3.9.13 ('token-checkup-f6SJIw-b')",
   "language": "python",
   "name": "python3"
  },
  "language_info": {
   "codemirror_mode": {
    "name": "ipython",
    "version": 3
   },
   "file_extension": ".py",
   "mimetype": "text/x-python",
   "name": "python",
   "nbconvert_exporter": "python",
   "pygments_lexer": "ipython3",
   "version": "3.9.13"
  },
  "orig_nbformat": 4,
  "vscode": {
   "interpreter": {
    "hash": "33ed67906b1ca54b6d446969c9730c1295022603ba6a1bcc7f4314870ddbd720"
   }
  }
 },
 "nbformat": 4,
 "nbformat_minor": 2
}
